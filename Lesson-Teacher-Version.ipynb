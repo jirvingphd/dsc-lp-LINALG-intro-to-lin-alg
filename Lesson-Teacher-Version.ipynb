{
 "cells": [
  {
   "cell_type": "markdown",
   "metadata": {
    "slideshow": {
     "slide_type": "slide"
    }
   },
   "source": [
    "# Linear Algebra\n",
    "\n",
    "## Motivation \n",
    "\n",
    "Linear algebra and matrices are a fundamental aspect of data science models and problems, including image processing, deep learning, natural language processing, recommender systems, and dimensionality reduction techniques like principal components analysis, which we will cover later. \n",
    "\n",
    "You will encounter matrices many times in your career as a data scientist! \n",
    "\n",
    "Linear algebra is the basis for many machine learning models. \n",
    "\n",
    "Data is usually already set up into matrix form by default! \n",
    "\n",
    "<img src= \"images/dataset.jpeg\">\n",
    "\n",
    "We'll see linear algebra can be used to model complicated things like language: \n",
    "\n",
    "<img src = \"images/Word-Vectors.png\">\n",
    "\n",
    "Linear algebra is important for image compression and recognition\n",
    "\n",
    "<img src = \"images/images.gif\">\n",
    "\n",
    "Recommendation engines are able to make much more sophisticated recommendations by using linear algebra in conjunction with user and content data.\n",
    "\n",
    "<img src = \"images/netflix.png\">"
   ]
  },
  {
   "cell_type": "markdown",
   "metadata": {
    "slideshow": {
     "slide_type": "slide"
    }
   },
   "source": [
    "## Problem: \n",
    "\n",
    "Let's start our inquiry into linear algebra with a simpler problem. \n",
    "\n",
    "You are working on an image preprocessing problem with a colleague and have determined that the secret to preprocessing some image for machine learning is to solve a system of equations: \n",
    "\n",
    "\\begin{equation}\n",
    "\\begin{bmatrix}\n",
    "2 & -1 & 4 & 6 & 3 \\\\\n",
    "4 & 7 & 1 & 1 & 12 \\\\\n",
    "9 & 14 & 2 & 2 & 6 \\\\\n",
    "1 & 1 & 1 & 2 & 17 \\\\\n",
    "-3 & -2 & -6 & 12 & -5\n",
    "\\end{bmatrix}\n",
    "\\begin{bmatrix}\n",
    "x_1 \\\\\n",
    "x_2 \\\\\n",
    "x_3 \\\\\n",
    "x_4 \\\\\n",
    "x_5\n",
    "\\end{bmatrix}\n",
    "=\n",
    "\\begin{bmatrix}\n",
    "3 \\\\\n",
    "15 \\\\\n",
    "20 \\\\\n",
    "2 \\\\\n",
    "-6\n",
    "\\end{bmatrix}\n",
    "\\end{equation}\n",
    "\n",
    "How can you solve this system quickly?\n",
    "\n",
    "In this lesson, we'll show you how! "
   ]
  },
  {
   "cell_type": "markdown",
   "metadata": {
    "slideshow": {
     "slide_type": "notes"
    }
   },
   "source": [
    "> Use Numpy to solve systems of linear equations! "
   ]
  },
  {
   "cell_type": "markdown",
   "metadata": {
    "slideshow": {
     "slide_type": "slide"
    }
   },
   "source": [
    "## Let's discuss how to solve simpler systems of linear equations \n"
   ]
  },
  {
   "cell_type": "markdown",
   "metadata": {
    "slideshow": {
     "slide_type": "slide"
    }
   },
   "source": [
    "Consider a two-variable system of linear equations\n",
    "\n",
    "$$2x + 4y = 10 \\\\\n",
    "x + 4y = 7$$\n",
    "\n",
    "We can solve this using plain old algebra to find that x = 3 and y = 1.\n",
    "\n",
    "But how do we solve this using NumPy?"
   ]
  },
  {
   "cell_type": "markdown",
   "metadata": {
    "slideshow": {
     "slide_type": "notes"
    }
   },
   "source": [
    "Note to instructors: \n",
    "\n",
    "### Solution through Substitution\n",
    "We _could_ solve this system by taking the first equation, solving it for X, and then plugging the result into the second:\n",
    "\n",
    "$2x + 4y = 10$. <br/> Thus: $\\\\ 2x = 10 - 4y \\\\ x = 5 - 2y$.\n",
    "\n",
    "Plugging in to the second equation, we have:\n",
    "\n",
    "$5 - 2y + 4y = 7$. <br/> Thus: $\\\\ 5 + 2y = 7 \\\\ 2y = 2 \\\\ y = 1$.\n",
    "\n",
    "Plugging this back into the first equation, we have:\n",
    "\n",
    "$2x + 4 = 10$.  <br/> Thus: $\\\\ 2x = 6 \\\\ x = 3$.\n",
    "\n",
    "And we have our solutions:  $x = 3, y = 1$.\n",
    "\n",
    "But this is computationally _very slow_! There is a better way:\n",
    "\n",
    "### Solution through Elimination\n",
    "\n",
    "Much faster is to subtract the second equation from the first:\n",
    "\n",
    "If $2x + 4y = 10$ and $x + 4y = 7$,\n",
    "then $(2x - x) + (4y - 4y) = 10 - 7$, i.e. $x = 3$. Then I could subtract this ($x + 0y = 3$) from $x + 4y = 7$, yielding: $4y = 4$, i.e. $y = 1$."
   ]
  },
  {
   "cell_type": "markdown",
   "metadata": {
    "slideshow": {
     "slide_type": "slide"
    }
   },
   "source": [
    "Before we can show you how to solve systems of linear equations using NumPy, we need to discuss vectors, matrices, and vector and matrix operations. "
   ]
  },
  {
   "cell_type": "markdown",
   "metadata": {
    "slideshow": {
     "slide_type": "slide"
    }
   },
   "source": [
    "# From scalars to vectors \n",
    "\n",
    "A _scalar_ has a single value. Any real number can be the value of a scalar. \n",
    "\n",
    "A _vector_ is specified by two parameters: magnitude and direction. \n",
    "* In a two dimensional cartesian coordinate system, a vector $\\vec{v}$ (also denoted by $\\mathbf{v}$) will be specified by its x- and y-components, $v_x$ and $v_y$. \n",
    "    * The magnitude $v$ is given by $||v|| = \\sqrt{v^2_x + v^2_y}$\n",
    "    * The direction of $v$ is given by $\\theta = tan^{-1}\\left(\\frac{v_y}{v_x}\\right)$"
   ]
  },
  {
   "cell_type": "markdown",
   "metadata": {
    "slideshow": {
     "slide_type": "slide"
    }
   },
   "source": [
    "# Vector arithmetic \n",
    "\n",
    "## Vector Addition\n",
    "\n",
    "Vector addition is simple: Just add the components together. \n",
    "\n",
    "Say we have two two-dimensional vectors $\\mathbf{v_1}$ and $\\mathbf{v_2}$, where $\\mathbf{v_1} = \\begin{bmatrix}\n",
    "8 \\\\\n",
    "14\n",
    "\\end{bmatrix}$ and $\\mathbf{v_2} = \\begin{bmatrix}\n",
    "7 \\\\\n",
    "6\n",
    "\\end{bmatrix}$. \n",
    "\n",
    "The sum of the two vectors, $\\mathbf{v}$, is equal to: \n",
    "$$\\mathbf{v} = \\mathbf{v_1} + \\mathbf{v_2} = \\begin{bmatrix}\n",
    "15 \\\\\n",
    "20\n",
    "\\end{bmatrix} $$\n",
    "\n",
    "How do we code this? "
   ]
  },
  {
   "cell_type": "code",
   "execution_count": 1,
   "metadata": {
    "slideshow": {
     "slide_type": "slide"
    }
   },
   "outputs": [
    {
     "data": {
      "text/plain": [
       "[8, 14, 7, 6]"
      ]
     },
     "execution_count": 1,
     "metadata": {},
     "output_type": "execute_result"
    }
   ],
   "source": [
    "# Try this \n",
    "\n",
    "v_1 = [8, 14]\n",
    "v_2 = [7, 6]\n",
    "\n",
    "v_1 + v_2"
   ]
  },
  {
   "cell_type": "markdown",
   "metadata": {
    "slideshow": {
     "slide_type": "slide"
    }
   },
   "source": [
    "This doesn't work!   \n",
    "\n",
    "\n",
    "Base Python is not good for non-scalar arithmetic. This is one of the many places where NumPy can come in very handy! "
   ]
  },
  {
   "cell_type": "code",
   "execution_count": 2,
   "metadata": {
    "slideshow": {
     "slide_type": "slide"
    }
   },
   "outputs": [
    {
     "data": {
      "text/plain": [
       "array([15, 20])"
      ]
     },
     "execution_count": 2,
     "metadata": {},
     "output_type": "execute_result"
    }
   ],
   "source": [
    "# Let's try this again, using NumPy arrays \n",
    "\n",
    "import numpy as np \n",
    "\n",
    "v_1 = np.array([8, 14])\n",
    "v_2 = np.array([7, 6])\n",
    "\n",
    "v_1 + v_2"
   ]
  },
  {
   "cell_type": "markdown",
   "metadata": {
    "slideshow": {
     "slide_type": "notes"
    }
   },
   "source": [
    "Notice we defined our vector as a numpy array. We passed in a list of values to create our vectors. \n",
    "\n",
    "> To represent a two-dimensional vector, we pass in a two-element list. If we wanted to represent a higher n-dimensional vector, we would pass in an n-element list to np.array. "
   ]
  },
  {
   "cell_type": "markdown",
   "metadata": {
    "slideshow": {
     "slide_type": "slide"
    }
   },
   "source": [
    "## Vector Multiplication\n",
    "\n",
    "Is base Python any better for vector _multiplication_ ? "
   ]
  },
  {
   "cell_type": "code",
   "execution_count": 3,
   "metadata": {
    "slideshow": {
     "slide_type": "slide"
    }
   },
   "outputs": [
    {
     "ename": "TypeError",
     "evalue": "can't multiply sequence by non-int of type 'tuple'",
     "output_type": "error",
     "traceback": [
      "\u001b[0;31m--------------------------------------------------------------------------\u001b[0m",
      "\u001b[0;31mTypeError\u001b[0m                                Traceback (most recent call last)",
      "\u001b[0;32m<ipython-input-3-123c6a0f1587>\u001b[0m in \u001b[0;36m<module>\u001b[0;34m()\u001b[0m\n\u001b[1;32m      4\u001b[0m \u001b[0mv_2\u001b[0m \u001b[0;34m=\u001b[0m \u001b[0;34m(\u001b[0m\u001b[0;36m8\u001b[0m\u001b[0;34m,\u001b[0m \u001b[0;36m6\u001b[0m\u001b[0;34m)\u001b[0m\u001b[0;34m\u001b[0m\u001b[0m\n\u001b[1;32m      5\u001b[0m \u001b[0;34m\u001b[0m\u001b[0m\n\u001b[0;32m----> 6\u001b[0;31m \u001b[0mv_1\u001b[0m\u001b[0;34m*\u001b[0m\u001b[0mv_2\u001b[0m\u001b[0;34m\u001b[0m\u001b[0m\n\u001b[0m",
      "\u001b[0;31mTypeError\u001b[0m: can't multiply sequence by non-int of type 'tuple'"
     ]
    }
   ],
   "source": [
    "# Try multiplying the vectors (4, 14) and (8, 6)\n",
    "\n",
    "v_1 = (4, 14)\n",
    "v_2 = (8, 6)\n",
    "\n",
    "v_1*v_2"
   ]
  },
  {
   "cell_type": "markdown",
   "metadata": {
    "slideshow": {
     "slide_type": "slide"
    }
   },
   "source": [
    "Not really! \n",
    "\n",
    "There are multiple ways of understanding the notion of vector multiplication: \n",
    "* you can take the _dot product_ of two vectors to return a scalar\n",
    "* you can take the _cross product_ of two vectors to return a new vector\n",
    "\n",
    "The one we'll use the most is the _dot product_ of two vectors, which is defined as follows: \n",
    "\n",
    "> The dot product is the sum of the pairwise products of the vector's entries. \n",
    "\n",
    "Thus, for $\\mathbf{v_1} = \\begin{bmatrix}\n",
    "8 \\\\\n",
    "14\n",
    "\\end{bmatrix}$ and $\\mathbf{v_2} = \\begin{bmatrix}\n",
    "7 \\\\\n",
    "6\n",
    "\\end{bmatrix}$,  $\\mathbf{v_1} \\cdot \\mathbf{v_2} = 8(7) + 14(6) = 56 + 84 = 140 $ \n",
    "\n",
    "The dot product of two vectors is only defined when the two vectors have the same number of dimensions or elements\n",
    "\n",
    "Let's compute the dot product of two vectors with NumPy! "
   ]
  },
  {
   "cell_type": "code",
   "execution_count": 4,
   "metadata": {
    "slideshow": {
     "slide_type": "slide"
    }
   },
   "outputs": [],
   "source": [
    "# Define the vectors as arrays using numpy \n",
    "v_1 = np.array([8, 14])\n",
    "v_2 = np.array([7, 6])"
   ]
  },
  {
   "cell_type": "markdown",
   "metadata": {
    "slideshow": {
     "slide_type": "slide"
    }
   },
   "source": [
    "Use the `.dot()` method of a numpy array to calculate the dot product of our two vectors: "
   ]
  },
  {
   "cell_type": "code",
   "execution_count": 5,
   "metadata": {
    "slideshow": {
     "slide_type": "slide"
    }
   },
   "outputs": [],
   "source": [
    "# your code here "
   ]
  },
  {
   "cell_type": "code",
   "execution_count": 6,
   "metadata": {
    "slideshow": {
     "slide_type": "notes"
    }
   },
   "outputs": [
    {
     "data": {
      "text/plain": [
       "140"
      ]
     },
     "execution_count": 6,
     "metadata": {},
     "output_type": "execute_result"
    }
   ],
   "source": [
    "v_1.dot(v_2)"
   ]
  },
  {
   "cell_type": "markdown",
   "metadata": {
    "slideshow": {
     "slide_type": "slide"
    }
   },
   "source": [
    "# Higher dimensions: from vectors to matrices \n",
    "\n",
    "For higher dimensions we can use _matrices_. \n",
    "\n",
    "Suppose we have a two-dimensional system of linear equations. \n",
    "\n",
    "Let's reuse our previous example: \n",
    "\n",
    "$$2x + 4y = 10 \\\\\n",
    "x + 4y = 7$$\n",
    "\n",
    "We can write this as: \n",
    "\n",
    "$$A\\mathbf{x} = \\mathbf{b}$$ \n",
    "\n",
    "where \n",
    "\n",
    "$$A = \\begin{bmatrix}\n",
    "2 & 4 \\\\\n",
    "1 & 4 \n",
    "\\end{bmatrix},$$\n",
    "\n",
    "$$\\mathbf{x} = \\begin{bmatrix}\n",
    "x \\\\\n",
    "y\n",
    "\\end{bmatrix},$$ \n",
    "\n",
    "and \n",
    "\n",
    "$$\\mathbf{b} = \\begin{bmatrix}\n",
    "10 \\\\\n",
    "7\n",
    "\\end{bmatrix}$$\n",
    "\n",
    "Here, $A$ is the **matrix** of linear coefficients that relate the input variables $\\mathbf{x}$ (a vector of inputs) to the output variables $\\mathbf{b}$ (a vector of outputs). \n",
    "\n",
    "We'll look into how to solve systems of linear equations using numpy later in this lesson. First, we need to look at how to define matrices in NumPy! \n",
    "\n"
   ]
  },
  {
   "cell_type": "markdown",
   "metadata": {
    "slideshow": {
     "slide_type": "slide"
    }
   },
   "source": [
    "## How do you define a matrix in NumPy? \n",
    "\n",
    "To define a matrix using NumPy, you need to pass a list of lists to `np.array`. \n",
    "\n",
    "Imagine we wanted to define the matrix $A = \\begin{bmatrix}\n",
    "2 & 4 \\\\\n",
    "1 & 4 \n",
    "\\end{bmatrix}$ \n",
    "\n",
    "To define the matrix $A$ using NumPy, run the following code: \n",
    "\n",
    "```python\n",
    "# Define the matrix A using np.array\n",
    "A = np.array([[2, 4], [1, 4]])\n",
    "print(A)\n",
    "```"
   ]
  },
  {
   "cell_type": "code",
   "execution_count": 7,
   "metadata": {
    "slideshow": {
     "slide_type": "notes"
    }
   },
   "outputs": [
    {
     "name": "stdout",
     "output_type": "stream",
     "text": [
      "[[2 4]\n",
      " [1 4]]\n"
     ]
    }
   ],
   "source": [
    "# Define the matrix A using np.array\n",
    "A = np.array([[2, 4], [1, 4]])\n",
    "print(A)"
   ]
  },
  {
   "cell_type": "markdown",
   "metadata": {
    "slideshow": {
     "slide_type": "slide"
    }
   },
   "source": [
    "If you want to define a $3\\times2$ dimensional matrix $B = \\begin{bmatrix}\n",
    "1 & 2 \\\\\n",
    "3 & 4 \\\\\n",
    "5 & 6\n",
    "\\end{bmatrix}$  , you  need to pass a list of 3 lists with 2 elements to `np.array`. \n",
    "\n",
    "Define B as a numpy array in the code cell below. We already give you a list of lists, `B_list`, to pass to `np.array`."
   ]
  },
  {
   "cell_type": "code",
   "execution_count": 8,
   "metadata": {
    "slideshow": {
     "slide_type": "slide"
    }
   },
   "outputs": [
    {
     "name": "stdout",
     "output_type": "stream",
     "text": [
      "None\n"
     ]
    }
   ],
   "source": [
    "B_list = [[1, 2], [3, 4], [5, 6]]\n",
    "# your code here \n",
    "B = None \n",
    "print(B)"
   ]
  },
  {
   "cell_type": "code",
   "execution_count": 9,
   "metadata": {
    "slideshow": {
     "slide_type": "notes"
    }
   },
   "outputs": [
    {
     "name": "stdout",
     "output_type": "stream",
     "text": [
      "[[1 2]\n",
      " [3 4]\n",
      " [5 6]]\n"
     ]
    }
   ],
   "source": [
    "B = [[1, 2], [3, 4], [5, 6]]\n",
    "B = np.array(B)\n",
    "print(B)"
   ]
  },
  {
   "cell_type": "markdown",
   "metadata": {
    "slideshow": {
     "slide_type": "slide"
    }
   },
   "source": [
    "How do we verify this is a $3\\times 2$ matrix? "
   ]
  },
  {
   "cell_type": "code",
   "execution_count": 10,
   "metadata": {
    "slideshow": {
     "slide_type": "notes"
    }
   },
   "outputs": [
    {
     "name": "stdout",
     "output_type": "stream",
     "text": [
      "(3, 2)\n"
     ]
    }
   ],
   "source": [
    "print(B.shape)"
   ]
  },
  {
   "cell_type": "markdown",
   "metadata": {
    "slideshow": {
     "slide_type": "slide"
    }
   },
   "source": [
    "## The transpose of a matrix\n",
    "\n",
    "Taking the transpose of a matrix will flip the rows and columns of a matrix. \n",
    "\n",
    "You'll find this an important step when performing operations with arrays in numpy. \n",
    "\n",
    "Compute $B^T$, the transpose of $B$, using `np.transpose()`, print it, and print its shape. "
   ]
  },
  {
   "cell_type": "code",
   "execution_count": 11,
   "metadata": {
    "slideshow": {
     "slide_type": "notes"
    }
   },
   "outputs": [
    {
     "name": "stdout",
     "output_type": "stream",
     "text": [
      "[[1 3 5]\n",
      " [2 4 6]]\n",
      "The shape of this matrix is (2, 3).\n"
     ]
    }
   ],
   "source": [
    "B_transpose = np.transpose(B)\n",
    "print(B_transpose)\n",
    "print(\"The shape of this matrix is {}.\".format(B_transpose.shape))"
   ]
  },
  {
   "cell_type": "markdown",
   "metadata": {
    "slideshow": {
     "slide_type": "slide"
    }
   },
   "source": [
    "## Matrix Multiplication \n",
    "\n",
    "Just as there are different notions of multiplication for vectors, there are also different notions of multiplications for matrices. Two different types of matrix multiplication are:\n",
    "\n",
    "* the Hadamard product, where multiplication proceeds element-wise, like matrix addition\n",
    "\n",
    "* the dot product\n",
    "\n",
    "### The dot product of two matrices \n",
    "Often, when people talk about multiplying matrices, they are talking about the dot product. From now on, when we talk about multiplying two matrices together, we'll be talking about taking the dot product of the two matrices. \n",
    "\n",
    "The dot product of two matrices can be calculated as follows: \n",
    "\n",
    "\\begin{equation}\n",
    "\\begin{bmatrix}\n",
    "a_{1,1} & a_{1,2} \\\\\n",
    "a_{2,1} & a_{2,2}\n",
    "\\end{bmatrix}\n",
    "\\times\n",
    "\\begin{bmatrix}\n",
    "b_{1,1} & b_{1,2} \\\\\n",
    "b_{2,1} & b_{2,2}\n",
    "\\end{bmatrix}\n",
    "=\n",
    "\\begin{bmatrix}\n",
    "a_{1,1}\\times b_{1,1} + a_{1,2}\\times b_{2,1} & a_{1,1}\\times b_{1,2} + a_{1,2}\\times b_{2,2} \\\\\n",
    "a_{2,1}\\times b_{1,1} + a_{2,2}\\times b_{2,1} & a_{2,1}\\times b_{1,2} + a_{2,2}\\times b_{2,2}\n",
    "\\end{bmatrix}\n",
    "\\end{equation}\n",
    "\n",
    "* Take the entries in each _row_ of the left matrix and multiply them, respectively, by the entries in each _column_ of the right matrix, and then add them up. \n",
    "\n",
    "* This is like the dot product we calculated above for our two vectors! \n",
    "\n",
    "**To be able to perform the dot product of two matrices $A$ and $B$, $AB$, the number of columns of A must be equal to the number of rows of B.** \n",
    "\n",
    "The number of rows of the product matrix, $AB$, will equal the number of rows of $A$ and the number of columns will equal the number of columns of $B$.\n",
    "\n",
    "Also, note that matrix dot-multiplication is NOT commutative! In general, $AB \\neq BA$.\n",
    "\n",
    "\n",
    "\n",
    "\n",
    "Let's practice matrix multiplication using NumPy! "
   ]
  },
  {
   "cell_type": "markdown",
   "metadata": {
    "slideshow": {
     "slide_type": "slide"
    }
   },
   "source": [
    "Let's compute the dot product of the previously defined matrices A and B using NumPy. \n",
    "\n",
    "To compute the dot product of two matrices A and B we use the same `.dot()` notation as before for matrix multiplication. (Using `A * B` will compute the element-wise Hadamard product). \n",
    "\n",
    "Can we compute $AB$? Why? "
   ]
  },
  {
   "cell_type": "code",
   "execution_count": 12,
   "metadata": {
    "slideshow": {
     "slide_type": "notes"
    }
   },
   "outputs": [
    {
     "ename": "ValueError",
     "evalue": "shapes (2,2) and (3,2) not aligned: 2 (dim 1) != 3 (dim 0)",
     "output_type": "error",
     "traceback": [
      "\u001b[0;31m--------------------------------------------------------------------------\u001b[0m",
      "\u001b[0;31mValueError\u001b[0m                               Traceback (most recent call last)",
      "\u001b[0;32m<ipython-input-12-24be6fbcd1a6>\u001b[0m in \u001b[0;36m<module>\u001b[0;34m()\u001b[0m\n\u001b[0;32m----> 1\u001b[0;31m \u001b[0mA\u001b[0m\u001b[0;34m.\u001b[0m\u001b[0mdot\u001b[0m\u001b[0;34m(\u001b[0m\u001b[0mB\u001b[0m\u001b[0;34m)\u001b[0m\u001b[0;34m\u001b[0m\u001b[0m\n\u001b[0m",
      "\u001b[0;31mValueError\u001b[0m: shapes (2,2) and (3,2) not aligned: 2 (dim 1) != 3 (dim 0)"
     ]
    }
   ],
   "source": [
    "A.dot(B) "
   ]
  },
  {
   "cell_type": "markdown",
   "metadata": {
    "slideshow": {
     "slide_type": "notes"
    }
   },
   "source": [
    "> No, we cannot. The number of columns of A is not equal to the number of rows of B. "
   ]
  },
  {
   "cell_type": "markdown",
   "metadata": {
    "slideshow": {
     "slide_type": "slide"
    }
   },
   "source": [
    "Compute $BA$ using NumPy. "
   ]
  },
  {
   "cell_type": "code",
   "execution_count": 13,
   "metadata": {
    "slideshow": {
     "slide_type": "notes"
    }
   },
   "outputs": [
    {
     "data": {
      "text/plain": [
       "array([[ 4, 12],\n",
       "       [10, 28],\n",
       "       [16, 44]])"
      ]
     },
     "execution_count": 13,
     "metadata": {},
     "output_type": "execute_result"
    }
   ],
   "source": [
    "B.dot(A)"
   ]
  },
  {
   "cell_type": "markdown",
   "metadata": {
    "slideshow": {
     "slide_type": "notes"
    }
   },
   "source": [
    "> We can compute $BA$ because the number of columns of B is equal to the number of rows of A. "
   ]
  },
  {
   "cell_type": "markdown",
   "metadata": {
    "slideshow": {
     "slide_type": "slide"
    }
   },
   "source": [
    "What is $B^T B$ equal to? What are some of the properties of the resulting matrix? "
   ]
  },
  {
   "cell_type": "code",
   "execution_count": 14,
   "metadata": {
    "slideshow": {
     "slide_type": "notes"
    }
   },
   "outputs": [
    {
     "data": {
      "text/plain": [
       "array([[35, 44],\n",
       "       [44, 56]])"
      ]
     },
     "execution_count": 14,
     "metadata": {},
     "output_type": "execute_result"
    }
   ],
   "source": [
    "B_transpose.dot(B)"
   ]
  },
  {
   "cell_type": "markdown",
   "metadata": {
    "slideshow": {
     "slide_type": "notes"
    }
   },
   "source": [
    "$B^T B$ is a square diagonal matrix. "
   ]
  },
  {
   "cell_type": "markdown",
   "metadata": {
    "slideshow": {
     "slide_type": "slide"
    }
   },
   "source": [
    "## The inverse of a matrix\n",
    "\n",
    "Matrix division is not defined. We cannot divide one matrix by another.\n",
    "\n",
    "The inverse of $A$, denoted by $A^{-1}$, is only defined if A is a square matrix, where the number of rows and columns of A is the same. \n",
    "\n",
    "When a matrix $A$ is multiplied by its inverse $A^{-1}$, $A^{-1} A$, we obtain an identity matrix $I$ of the same dimension as $A$, which contains 1's along the main diagonal of the matrix and 0's everywhere \n",
    "else. \n",
    "\n",
    "We use `np.linalg.inv(A)` to compute the inverse of a square matrix $A$ using NumPy.\n",
    "\n",
    "Compute the inverse of $A = \\begin{bmatrix}\n",
    "2 & 4 \\\\\n",
    "1 & 4 \n",
    "\\end{bmatrix}$  using NumPy and print it. Check that $A A^{-1}$ is equal to the identity matrix. "
   ]
  },
  {
   "cell_type": "code",
   "execution_count": 15,
   "metadata": {
    "slideshow": {
     "slide_type": "notes"
    }
   },
   "outputs": [
    {
     "name": "stdout",
     "output_type": "stream",
     "text": [
      "[[ 1.   -1.  ]\n",
      " [-0.25  0.5 ]]\n"
     ]
    }
   ],
   "source": [
    "A = np.array([[2, 4], [1, 4]])\n",
    "\n",
    "A_inv = np.linalg.inv(A)\n",
    "\n",
    "print(A_inv)"
   ]
  },
  {
   "cell_type": "code",
   "execution_count": 16,
   "metadata": {
    "slideshow": {
     "slide_type": "notes"
    }
   },
   "outputs": [
    {
     "name": "stdout",
     "output_type": "stream",
     "text": [
      "[[1. 0.]\n",
      " [0. 1.]]\n"
     ]
    }
   ],
   "source": [
    "print(A.dot(A_inv))"
   ]
  },
  {
   "cell_type": "markdown",
   "metadata": {
    "slideshow": {
     "slide_type": "slide"
    }
   },
   "source": [
    "## How do we solve a system of linear equations using NumPy? \n",
    "\n",
    "Let's go back to the example of a two-dimensional system of linear equations. \n",
    "\n",
    "$$2x + 4y = 10 \\\\\n",
    "x + 4y = 7$$\n",
    "\n",
    "We saw that can write this as: \n",
    "\n",
    "$$A\\mathbf{x} = \\mathbf{b}$$ \n",
    "\n",
    "where \n",
    "\n",
    "$$A = \\begin{bmatrix}\n",
    "2 & 4 \\\\\n",
    "1 & 4 \n",
    "\\end{bmatrix},$$\n",
    "\n",
    "$$\\mathbf{x} = \\begin{bmatrix}\n",
    "x \\\\\n",
    "y\n",
    "\\end{bmatrix},$$ \n",
    "\n",
    "and \n",
    "\n",
    "$$\\mathbf{b} = \\begin{bmatrix}\n",
    "10 \\\\\n",
    "7\n",
    "\\end{bmatrix}$$\n",
    "\n",
    "To solve for $\\mathbf{x}$, we cannot divide $\\mathbf{b}$ by A! \n",
    "\n",
    "To solve for $\\mathbf{x}$, we need to multiply both sides of the equation $A\\mathbf{x} = \\mathbf{b}$ by the **inverse matrix** of $A$:  \n",
    "\n",
    "$$\\mathbf{x} = A^{-1}\\mathbf{b}$$\n",
    "\n",
    "Solve for $\\mathbf{x}$. "
   ]
  },
  {
   "cell_type": "code",
   "execution_count": 17,
   "metadata": {
    "slideshow": {
     "slide_type": "notes"
    }
   },
   "outputs": [
    {
     "name": "stdout",
     "output_type": "stream",
     "text": [
      "[3. 1.]\n"
     ]
    }
   ],
   "source": [
    "A = np.array([[2, 4], [1, 4]])\n",
    "b = np.array([10, 7])\n",
    "A_inv = np.linalg.inv(A)\n",
    "\n",
    "x = A_inv.dot(b)\n",
    "print(x)"
   ]
  },
  {
   "cell_type": "code",
   "execution_count": 18,
   "metadata": {
    "slideshow": {
     "slide_type": "notes"
    }
   },
   "outputs": [
    {
     "data": {
      "text/plain": [
       "array([3., 1.])"
      ]
     },
     "execution_count": 18,
     "metadata": {},
     "output_type": "execute_result"
    }
   ],
   "source": [
    "# This also works\n",
    "np.linalg.solve(A, b)"
   ]
  },
  {
   "cell_type": "markdown",
   "metadata": {
    "slideshow": {
     "slide_type": "slide"
    }
   },
   "source": [
    "Now that we know how to solve systems of linear equations using NumPy, let's go back to our starting problem. \n",
    "\n",
    "Use NumPy to solve this system of equations: \n",
    "\n",
    "\\begin{equation}\n",
    "\\begin{bmatrix}\n",
    "2 & -1 & 4 & 6 & 3 \\\\\n",
    "4 & 7 & 1 & 1 & 12 \\\\\n",
    "9 & 14 & 2 & 2 & 6 \\\\\n",
    "1 & 1 & 1 & 2 & 17 \\\\\n",
    "-3 & -2 & -6 & 12 & -5\n",
    "\\end{bmatrix}\n",
    "\\begin{bmatrix}\n",
    "x_1 \\\\\n",
    "x_2 \\\\\n",
    "x_3 \\\\\n",
    "x_4 \\\\\n",
    "x_5\n",
    "\\end{bmatrix}\n",
    "=\n",
    "\\begin{bmatrix}\n",
    "3 \\\\\n",
    "15 \\\\\n",
    "20 \\\\\n",
    "2 \\\\\n",
    "-6\n",
    "\\end{bmatrix}\n",
    "\\end{equation}"
   ]
  },
  {
   "cell_type": "code",
   "execution_count": 19,
   "metadata": {
    "slideshow": {
     "slide_type": "notes"
    }
   },
   "outputs": [],
   "source": [
    "A = np.array([[2, -1, 4, 6, 3], \n",
    "              [4, 7, 1, 1, 12], \n",
    "              [9, 14, 2, 2, 6], \n",
    "              [1, 1, 1, 2, 17], \n",
    "              [-3, -2, -6, 12, -5]\n",
    "             ])\n",
    "b = np.array([3, 15, 20, 2, -6])"
   ]
  },
  {
   "cell_type": "code",
   "execution_count": 20,
   "metadata": {
    "slideshow": {
     "slide_type": "notes"
    }
   },
   "outputs": [
    {
     "data": {
      "text/plain": [
       "array([-14.51240389,   9.46394893,   8.31031481,   1.49992746,\n",
       "        -0.2506891 ])"
      ]
     },
     "execution_count": 20,
     "metadata": {},
     "output_type": "execute_result"
    }
   ],
   "source": [
    "A_inv = np.linalg.inv(A)\n",
    "x = A_inv.dot(b)\n",
    "x"
   ]
  },
  {
   "cell_type": "code",
   "execution_count": 21,
   "metadata": {
    "slideshow": {
     "slide_type": "notes"
    }
   },
   "outputs": [
    {
     "data": {
      "text/plain": [
       "array([-14.51240389,   9.46394893,   8.31031481,   1.49992746,\n",
       "        -0.2506891 ])"
      ]
     },
     "execution_count": 21,
     "metadata": {},
     "output_type": "execute_result"
    }
   ],
   "source": [
    "# This also works\n",
    "x = np.linalg.solve(A,b)\n",
    "x"
   ]
  },
  {
   "cell_type": "markdown",
   "metadata": {
    "slideshow": {
     "slide_type": "slide"
    }
   },
   "source": [
    "# Ordinary Least Squares using NumPy "
   ]
  },
  {
   "cell_type": "markdown",
   "metadata": {
    "slideshow": {
     "slide_type": "slide"
    }
   },
   "source": [
    "Let's look at a toy example. \n",
    "\n",
    "We have the following data:\n",
    "\n",
    "```python\n",
    "x = [1, 2, 3, 4]\n",
    "y = [7, 4, 3, 2]\n",
    "```\n",
    "\n",
    "Here, x is the number of cups of coffee Joe drank during three consecutive days, and y is the number of hours he slept each of those nights.  \n",
    "\n",
    "We want to fit a line to this data to describe the relationship between the number of cups of coffee Joe drank in a day and the hours he was able to sleep each night with a linear model. \n",
    "\n",
    "This line will be of the form $y = mx + b$, where y is the number of hours of sleep per night, x is the number of cups of coffee drank in the day, m is the slope of the line, and b the y-intercept of the line. \n",
    "\n",
    "Using this, we can write: \n",
    "\n",
    "$$ b + m*1 = 7 \\\\\n",
    "b + m*2 = 4 \\\\\n",
    "b + m*3 = 3 \\\\\n",
    "b + m*4 = 2$$\n",
    "\n",
    "This is a system of linear equations that can be written in matrix form as follows: \n",
    "\n",
    "$$\n",
    "    \\left[ {\\begin{array}{cc}\n",
    "   1 & 1 \\\\\n",
    "   1 & 2 \\\\\n",
    "   1 & 3 \\\\\n",
    "   1 & 4\n",
    "  \\end{array} } \\right]\n",
    "   \\left[ {\\begin{array}{c}\n",
    "   b \\\\\n",
    "   m \\\\\n",
    "  \\end{array} } \\right] =\n",
    "    \\left[ {\\begin{array}{c}\n",
    "    7 \\\\\n",
    "    4 \\\\\n",
    "    3 \\\\\n",
    "    2\n",
    "  \\end{array} } \\right] \n",
    "$$\n",
    "\n",
    "We are hoping that there is some _linear combination_ of the columns of the first matrix that will give us our vector of observed values $y$. \n",
    "\n",
    "Before we proceed, let's visualize our data using a scatter plot:"
   ]
  },
  {
   "cell_type": "code",
   "execution_count": 28,
   "metadata": {
    "slideshow": {
     "slide_type": "slide"
    }
   },
   "outputs": [
    {
     "data": {
      "image/png": "[encoded data removed]",
      "text/plain": [
       "<Figure size 432x288 with 1 Axes>"
      ]
     },
     "metadata": {
      "needs_background": "light"
     },
     "output_type": "display_data"
    }
   ],
   "source": [
    "import matplotlib.pyplot as plt \n",
    "%matplotlib inline \n",
    "\n",
    "x = [1, 2, 3, 4]\n",
    "y = [7, 4, 3, 2]\n",
    "\n",
    "plt.scatter(x, y)\n",
    "plt.xlabel('cups of coffee')\n",
    "plt.ylabel('hours of sleep');"
   ]
  },
  {
   "cell_type": "markdown",
   "metadata": {
    "slideshow": {
     "slide_type": "slide"
    }
   },
   "source": [
    "We can see our points do not lie on a line. A linear model won't fit our data perfectly. \n",
    "\n",
    "> Every line we attempt to draw through these points will have some error associated with it.\n"
   ]
  },
  {
   "cell_type": "markdown",
   "metadata": {
    "slideshow": {
     "slide_type": "slide"
    }
   },
   "source": [
    "## Ordinary Least Squares\n",
    "\n",
    "Ordinary least squares tells us that our linear regression equation can be represented as the sum of a linear term and an error term: \n",
    "\n",
    "$$y = X\\beta + error$$\n",
    "\n",
    "To solve for the best estimate of $\\beta$, we are going to assume that on average, the error is equal to 0, thus:  \n",
    "\n",
    "$$ y = X \\beta $$\n",
    "\n",
    "In our toy example, \n",
    "\n",
    "$$X = \\begin{bmatrix}\n",
    "1 & 1 \\\\\n",
    "1 & 2 \\\\ \n",
    "1 & 3 \\\\\n",
    "1 & 4 \n",
    "\\end{bmatrix},$$ \n",
    "\n",
    "$$\\beta = \\begin{bmatrix}\n",
    "b \\\\\n",
    "m\n",
    "\\end{bmatrix},\n",
    "$$\n",
    "\n",
    "and \n",
    "\n",
    "$$y = \\begin{bmatrix}\n",
    "7 \\\\\n",
    "4 \\\\ \n",
    "3 \\\\\n",
    "2\n",
    "\\end{bmatrix}.$$\n",
    "\n",
    "$\\beta$ is a vector comprised of the intercept $b$ for the line and the slope $m$ for the line. "
   ]
  },
  {
   "cell_type": "markdown",
   "metadata": {
    "slideshow": {
     "slide_type": "slide"
    }
   },
   "source": [
    "Why does the matrix $X$ include a column of ones? "
   ]
  },
  {
   "cell_type": "markdown",
   "metadata": {
    "slideshow": {
     "slide_type": "notes"
    }
   },
   "source": [
    "> We need a column of ones for the intercept $b$. If we don't include an intercept term in our linear model, we would be constraining our lines to pass through the origin, which limits the types of relationships the model we're fitting can describe. "
   ]
  },
  {
   "cell_type": "markdown",
   "metadata": {
    "slideshow": {
     "slide_type": "slide"
    }
   },
   "source": [
    "Can you compute the inverse of $X$? "
   ]
  },
  {
   "cell_type": "markdown",
   "metadata": {
    "slideshow": {
     "slide_type": "notes"
    }
   },
   "source": [
    "> No, because it is not a square matrix. "
   ]
  },
  {
   "cell_type": "markdown",
   "metadata": {
    "slideshow": {
     "slide_type": "slide"
    }
   },
   "source": [
    "To solve for $\\beta$, we need to make $X$ into a square matrix by multiplying both sides of the equation from the left by $X^T$ : \n",
    "\n",
    "$$X^T y = X^T X \\beta $$\n"
   ]
  },
  {
   "cell_type": "markdown",
   "metadata": {
    "slideshow": {
     "slide_type": "slide"
    }
   },
   "source": [
    "Now we have a square matrix that with any luck has an inverse, which we will call $(X^T X)^{-1}$. \n",
    "\n",
    "Multiply both sides from the left by this inverse, and we have\n",
    "\n",
    "$$(X^T X)^{-1} X^T y =(X^T X)^{-1} X^T X\\beta $$"
   ]
  },
  {
   "cell_type": "markdown",
   "metadata": {
    "slideshow": {
     "slide_type": "slide"
    }
   },
   "source": [
    "It turns out that a matrix multiplied by its inverse is the identity matrix $(X^{-1} X)= I$:\n",
    "\n",
    "$$(X^T X)^{-1} X^T y =I \\beta $$\n",
    "\n",
    "\n",
    "You know that $I\\beta= \\beta$. \n",
    "\n",
    "So, if you want to solve for $\\beta$ (that is, remember, equivalent to finding the values $m$ and $b$ in this case), you find that:\n",
    "\n",
    "$$ \\beta = (X^T X)^{-1} X^T y $$"
   ]
  },
  {
   "cell_type": "markdown",
   "metadata": {
    "slideshow": {
     "slide_type": "slide"
    }
   },
   "source": [
    "Find $\\beta$ using Ordinary Least Squares."
   ]
  },
  {
   "cell_type": "code",
   "execution_count": 34,
   "metadata": {
    "slideshow": {
     "slide_type": "notes"
    }
   },
   "outputs": [
    {
     "name": "stdout",
     "output_type": "stream",
     "text": [
      "[ 8.  -1.6]\n"
     ]
    }
   ],
   "source": [
    "X = np.array([[1, 1], [1, 2], [1, 3], [1, 4]])\n",
    "y = np.array([7, 4, 3, 2]) \n",
    "\n",
    "Xt = np.transpose(X)\n",
    "XtX = Xt.dot(X)\n",
    "XtX_inv = np.linalg.inv(XtX)\n",
    "Xty = Xt.dot(y)\n",
    "\n",
    "b = XtX_inv.dot(Xty)\n",
    "print(b) "
   ]
  },
  {
   "cell_type": "markdown",
   "metadata": {
    "slideshow": {
     "slide_type": "slide"
    }
   },
   "source": [
    "Plot the best line obtained via Ordinary Least Squares against the original data. "
   ]
  },
  {
   "cell_type": "code",
   "execution_count": 36,
   "metadata": {
    "slideshow": {
     "slide_type": "notes"
    }
   },
   "outputs": [
    {
     "data": {
      "image/png": "[encoded data removed]",
      "text/plain": [
       "<Figure size 432x288 with 1 Axes>"
      ]
     },
     "metadata": {
      "needs_background": "light"
     },
     "output_type": "display_data"
    }
   ],
   "source": [
    "import matplotlib.pyplot as plt \n",
    "%matplotlib inline \n",
    "\n",
    "x = [1, 2, 3, 4]\n",
    "y = [7, 4, 3, 2]\n",
    "\n",
    "plt.scatter(x, y)\n",
    "plt.plot(x, b[0] + b[1]*np.array(x), ls='dashed', color='r', label='best fit')\n",
    "plt.xlabel('cups of coffee')\n",
    "plt.ylabel('hours of sleep')\n",
    "plt.legend();"
   ]
  }
 ],
 "metadata": {
  "celltoolbar": "Slideshow",
  "kernelspec": {
   "display_name": "Python 3",
   "language": "python",
   "name": "python3"
  },
  "language_info": {
   "codemirror_mode": {
    "name": "ipython",
    "version": 3
   },
   "file_extension": ".py",
   "mimetype": "text/x-python",
   "name": "python",
   "nbconvert_exporter": "python",
   "pygments_lexer": "ipython3",
   "version": "3.6.6"
  },
  "toc": {
   "base_numbering": 1,
   "nav_menu": {},
   "number_sections": true,
   "sideBar": true,
   "skip_h1_title": false,
   "title_cell": "Table of Contents",
   "title_sidebar": "Contents",
   "toc_cell": false,
   "toc_position": {},
   "toc_section_display": true,
   "toc_window_display": false
  }
 },
 "nbformat": 4,
 "nbformat_minor": 2
}
